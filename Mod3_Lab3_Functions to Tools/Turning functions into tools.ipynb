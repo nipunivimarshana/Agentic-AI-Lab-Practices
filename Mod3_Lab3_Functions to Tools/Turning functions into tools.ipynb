{
 "cells": [
  {
   "cell_type": "code",
   "execution_count": 1,
   "id": "c31d0ba5-1685-486f-8e48-1c21a2086bc9",
   "metadata": {},
   "outputs": [],
   "source": [
    "import json\n",
    "import display_functions\n",
    "import os \n",
    "from dotenv import load_dotenv\n",
    "_ = load_dotenv()\n",
    "\n",
    "my_secret_key = os.getenv(\"OPENROUTER_API_KEY\")"
   ]
  },
  {
   "cell_type": "code",
   "execution_count": 2,
   "id": "8f986782-6e6c-480a-a1b3-c8653ab9214a",
   "metadata": {},
   "outputs": [],
   "source": [
    "import aisuite as ai\n",
    "\n",
    "# Create an instance of the AISuite client\n",
    "client = ai.Client()"
   ]
  },
  {
   "cell_type": "code",
   "execution_count": 3,
   "id": "b41e03ee-146a-4583-af2e-525418f8f12d",
   "metadata": {},
   "outputs": [],
   "source": [
    "from datetime import datetime\n",
    "\n",
    "def get_current_time():\n",
    "    \"\"\"\n",
    "    Returns the current time as a string.\n",
    "    \"\"\"\n",
    "    return datetime.now().strftime(\"%H:%M:%S\")"
   ]
  },
  {
   "cell_type": "code",
   "execution_count": 4,
   "id": "1e149a79-87ed-4fb9-bcd5-4a9541fe78a4",
   "metadata": {},
   "outputs": [
    {
     "data": {
      "text/plain": [
       "'17:17:31'"
      ]
     },
     "execution_count": 4,
     "metadata": {},
     "output_type": "execute_result"
    }
   ],
   "source": [
    "get_current_time()"
   ]
  },
  {
   "cell_type": "code",
   "execution_count": 5,
   "id": "e6253ec6-6177-4f12-aefd-427a34f57e21",
   "metadata": {},
   "outputs": [],
   "source": [
    "# Message structure\n",
    "prompt = \"What time is it?\"\n",
    "messages = [\n",
    "    {\n",
    "        \"role\": \"user\",\n",
    "        \"content\": prompt,\n",
    "    }\n",
    "]"
   ]
  },
  {
   "cell_type": "code",
   "execution_count": 6,
   "id": "cd62a935-27bf-47b7-8e80-323098d856b9",
   "metadata": {},
   "outputs": [
    {
     "name": "stdout",
     "output_type": "stream",
     "text": [
      "The current time is 17:17:40.\n"
     ]
    }
   ],
   "source": [
    "response = client.chat.completions.create(\n",
    "    model=\"openai:gpt-3.5-turbo\",\n",
    "    messages=messages,\n",
    "    tools=[get_current_time],\n",
    "    max_turns=5\n",
    ")\n",
    "\n",
    "# See the LLM response\n",
    "print(response.choices[0].message.content)"
   ]
  },
  {
   "cell_type": "code",
   "execution_count": 7,
   "id": "97dd1155-59f7-44a6-8713-7eeccac0e02a",
   "metadata": {},
   "outputs": [
    {
     "data": {
      "text/html": [
       "\n",
       "                <div style=\"border-left: 4px solid #444; margin: 10px 0; padding: 10px; background: #f0f0f0;\">\n",
       "                    <strong style=\"color:#222;\">🧠 LLM Action:</strong> <code>get_current_time</code>\n",
       "                    <pre style=\"color:#000; font-size:13px;\">{}</pre>\n",
       "                </div>\n",
       "                \n",
       "            <div style=\"border-left: 4px solid #007bff; margin: 10px 0; padding: 10px; background: #eef6ff;\">\n",
       "                <strong style=\"color:#222;\">🔧 Tool Response:</strong> <code>get_current_time</code>\n",
       "                <pre style=\"color:#000; font-size:13px;\">\"17:17:40\"</pre>\n",
       "            </div>\n",
       "            \n",
       "    <div style=\"border-left: 4px solid #28a745; margin: 20px 0; padding: 10px; background: #eafbe7;\">\n",
       "        <strong style=\"color:#222;\">✅ Final Assistant Message:</strong>\n",
       "        <p style=\"color:#000;\">The current time is 17:17:40.</p>\n",
       "    </div>\n",
       "    \n",
       "        <div style=\"border-left: 4px solid #666; margin: 20px 0; padding: 10px; background: #f8f9fa;\">\n",
       "            <strong style=\"color:#222;\">🧭 Tool Sequence:</strong>\n",
       "            <p style=\"color:#000;\">get_current_time</p>\n",
       "        </div>\n",
       "        "
      ],
      "text/plain": [
       "<IPython.core.display.HTML object>"
      ]
     },
     "metadata": {},
     "output_type": "display_data"
    }
   ],
   "source": [
    "display_functions.pretty_print_chat_completion(response)"
   ]
  },
  {
   "cell_type": "code",
   "execution_count": 8,
   "id": "c945743c-5983-4ab4-a06c-62548cfe3037",
   "metadata": {},
   "outputs": [],
   "source": [
    "import requests\n",
    "import qrcode\n",
    "from qrcode.image.styledpil import StyledPilImage\n",
    "\n",
    "\n",
    "def get_weather_from_ip():\n",
    "    \"\"\"\n",
    "    Gets the current, high, and low temperature in Fahrenheit for the user's\n",
    "    location and returns it to the user.\n",
    "    \"\"\"\n",
    "    # Get location coordinates from the IP address\n",
    "    lat, lon = requests.get('https://ipinfo.io/json').json()['loc'].split(',')\n",
    "\n",
    "    # Set parameters for the weather API call\n",
    "    params = {\n",
    "        \"latitude\": lat,\n",
    "        \"longitude\": lon,\n",
    "        \"current\": \"temperature_2m\",\n",
    "        \"daily\": \"temperature_2m_max,temperature_2m_min\",\n",
    "        \"temperature_unit\": \"fahrenheit\",\n",
    "        \"timezone\": \"auto\"\n",
    "    }\n",
    "\n",
    "    # Get weather data\n",
    "    weather_data = requests.get(\"https://api.open-meteo.com/v1/forecast\", params=params).json()\n",
    "\n",
    "    # Format and return the simplified string\n",
    "    return (\n",
    "        f\"Current: {weather_data['current']['temperature_2m']}°F, \"\n",
    "        f\"High: {weather_data['daily']['temperature_2m_max'][0]}°F, \"\n",
    "        f\"Low: {weather_data['daily']['temperature_2m_min'][0]}°F\"\n",
    "    )\n",
    "\n",
    "# Write a text file\n",
    "def write_txt_file(file_path: str, content: str):\n",
    "    \"\"\"\n",
    "    Write a string into a .txt file (overwrites if exists).\n",
    "    Args:\n",
    "        file_path (str): Destination path.\n",
    "        content (str): Text to write.\n",
    "    Returns:\n",
    "        str: Path to the written file.\n",
    "    \"\"\"\n",
    "    with open(file_path, \"w\", encoding=\"utf-8\") as f:\n",
    "        f.write(content)\n",
    "    return file_path\n",
    "\n",
    "\n",
    "# Create a QR code\n",
    "def generate_qr_code(data: str, filename: str, image_path: str):\n",
    "    \"\"\"Generate a QR code image given data and an image path.\n",
    "\n",
    "    Args:\n",
    "        data: Text or URL to encode\n",
    "        filename: Name for the output PNG file (without extension)\n",
    "        image_path: Path to the image to be used in the QR code\n",
    "    \"\"\"\n",
    "    qr = qrcode.QRCode(error_correction=qrcode.constants.ERROR_CORRECT_H)\n",
    "    qr.add_data(data)\n",
    "\n",
    "    img = qr.make_image(image_factory=StyledPilImage, embedded_image_path=image_path)\n",
    "    output_file = f\"{filename}.png\"\n",
    "    img.save(output_file)\n",
    "\n",
    "    return f\"QR code saved as {output_file} containing: {data[:50]}...\""
   ]
  },
  {
   "cell_type": "code",
   "execution_count": 9,
   "id": "994c5204-3dc3-4b22-82ca-134afb8f13c1",
   "metadata": {},
   "outputs": [
    {
     "data": {
      "text/html": [
       "\n",
       "                <div style=\"border-left: 4px solid #444; margin: 10px 0; padding: 10px; background: #f0f0f0;\">\n",
       "                    <strong style=\"color:#222;\">🧠 LLM Action:</strong> <code>get_weather_from_ip</code>\n",
       "                    <pre style=\"color:#000; font-size:13px;\">{}</pre>\n",
       "                </div>\n",
       "                \n",
       "            <div style=\"border-left: 4px solid #007bff; margin: 10px 0; padding: 10px; background: #eef6ff;\">\n",
       "                <strong style=\"color:#222;\">🔧 Tool Response:</strong> <code>get_weather_from_ip</code>\n",
       "                <pre style=\"color:#000; font-size:13px;\">\"Current: 83.1\\u00b0F, High: 84.1\\u00b0F, Low: 82.3\\u00b0F\"</pre>\n",
       "            </div>\n",
       "            \n",
       "    <div style=\"border-left: 4px solid #28a745; margin: 20px 0; padding: 10px; background: #eafbe7;\">\n",
       "        <strong style=\"color:#222;\">✅ Final Assistant Message:</strong>\n",
       "        <p style=\"color:#000;\">The current temperature in your location is 83.1°F, with a high of 84.1°F and a low of 82.3°F.</p>\n",
       "    </div>\n",
       "    \n",
       "        <div style=\"border-left: 4px solid #666; margin: 20px 0; padding: 10px; background: #f8f9fa;\">\n",
       "            <strong style=\"color:#222;\">🧭 Tool Sequence:</strong>\n",
       "            <p style=\"color:#000;\">get_weather_from_ip</p>\n",
       "        </div>\n",
       "        "
      ],
      "text/plain": [
       "<IPython.core.display.HTML object>"
      ]
     },
     "metadata": {},
     "output_type": "display_data"
    }
   ],
   "source": [
    "prompt = \"Can you get the weather for my location?\"\n",
    "\n",
    "response = client.chat.completions.create(\n",
    "    model=\"openai:gpt-3.5-turbo\",\n",
    "    messages=[{\"role\": \"user\", \"content\": (\n",
    "        prompt\n",
    "    )}],\n",
    "    tools=[\n",
    "        get_current_time,\n",
    "        get_weather_from_ip,\n",
    "        write_txt_file,\n",
    "        generate_qr_code\n",
    "    ],\n",
    "    max_turns=5\n",
    ")\n",
    "\n",
    "display_functions.pretty_print_chat_completion(response)"
   ]
  },
  {
   "cell_type": "code",
   "execution_count": 10,
   "id": "b6f116b5-3072-4d1f-86f5-f9189764aab5",
   "metadata": {},
   "outputs": [
    {
     "data": {
      "text/html": [
       "\n",
       "                <div style=\"border-left: 4px solid #444; margin: 10px 0; padding: 10px; background: #f0f0f0;\">\n",
       "                    <strong style=\"color:#222;\">🧠 LLM Action:</strong> <code>write_txt_file</code>\n",
       "                    <pre style=\"color:#000; font-size:13px;\">{\n",
       "  \"file_path\": \"reminders.txt\",\n",
       "  \"content\": \"Reminder: Call Daniel tomorrow at 7PM\"\n",
       "}</pre>\n",
       "                </div>\n",
       "                \n",
       "            <div style=\"border-left: 4px solid #007bff; margin: 10px 0; padding: 10px; background: #eef6ff;\">\n",
       "                <strong style=\"color:#222;\">🔧 Tool Response:</strong> <code>write_txt_file</code>\n",
       "                <pre style=\"color:#000; font-size:13px;\">\"reminders.txt\"</pre>\n",
       "            </div>\n",
       "            \n",
       "    <div style=\"border-left: 4px solid #28a745; margin: 20px 0; padding: 10px; background: #eafbe7;\">\n",
       "        <strong style=\"color:#222;\">✅ Final Assistant Message:</strong>\n",
       "        <p style=\"color:#000;\">I have created a text note for you. You can find it in a file named \"reminders.txt\" with the reminder to call Daniel tomorrow at 7 PM.</p>\n",
       "    </div>\n",
       "    \n",
       "        <div style=\"border-left: 4px solid #666; margin: 20px 0; padding: 10px; background: #f8f9fa;\">\n",
       "            <strong style=\"color:#222;\">🧭 Tool Sequence:</strong>\n",
       "            <p style=\"color:#000;\">write_txt_file</p>\n",
       "        </div>\n",
       "        "
      ],
      "text/plain": [
       "<IPython.core.display.HTML object>"
      ]
     },
     "metadata": {},
     "output_type": "display_data"
    }
   ],
   "source": [
    "prompt = \"Can you make a txt note for me called reminders.txt that reminds me to call Daniel tomorrow at 7PM?\"\n",
    "\n",
    "response = client.chat.completions.create(\n",
    "    model=\"openai:gpt-3.5-turbo\",\n",
    "    messages=[{\"role\": \"user\", \"content\": (\n",
    "        prompt\n",
    "    )}],\n",
    "    tools=[\n",
    "        get_current_time,\n",
    "        get_weather_from_ip,\n",
    "        write_txt_file,\n",
    "        generate_qr_code\n",
    "    ],\n",
    "    max_turns=5\n",
    ")\n",
    "\n",
    "display_functions.pretty_print_chat_completion(response)"
   ]
  },
  {
   "cell_type": "code",
   "execution_count": 11,
   "id": "1d981f4d-024d-4724-8a1e-7df8b1e5d574",
   "metadata": {},
   "outputs": [
    {
     "name": "stdout",
     "output_type": "stream",
     "text": [
      "Reminder: Call Daniel tomorrow at 7PM\n"
     ]
    }
   ],
   "source": [
    "with open('reminders.txt', 'r') as file:\n",
    "    contents = file.read()\n",
    "    print(contents)"
   ]
  },
  {
   "cell_type": "code",
   "execution_count": 12,
   "id": "a8899a8d-983a-4273-81c3-87df6d834871",
   "metadata": {},
   "outputs": [
    {
     "ename": "FileNotFoundError",
     "evalue": "[Errno 2] No such file or directory: 'dl_logo.jpg'",
     "output_type": "error",
     "traceback": [
      "\u001b[1;31m---------------------------------------------------------------------------\u001b[0m",
      "\u001b[1;31mFileNotFoundError\u001b[0m                         Traceback (most recent call last)",
      "Cell \u001b[1;32mIn[12], line 3\u001b[0m\n\u001b[0;32m      1\u001b[0m prompt \u001b[38;5;241m=\u001b[39m \u001b[38;5;124m\"\u001b[39m\u001b[38;5;124mCan you make a QR code for me using my company\u001b[39m\u001b[38;5;124m'\u001b[39m\u001b[38;5;124ms logo that goes to www.deeplearning.ai? The logo is located at `dl_logo.jpg`. You can call it dl_qr_code.\u001b[39m\u001b[38;5;124m\"\u001b[39m\n\u001b[1;32m----> 3\u001b[0m response \u001b[38;5;241m=\u001b[39m \u001b[43mclient\u001b[49m\u001b[38;5;241;43m.\u001b[39;49m\u001b[43mchat\u001b[49m\u001b[38;5;241;43m.\u001b[39;49m\u001b[43mcompletions\u001b[49m\u001b[38;5;241;43m.\u001b[39;49m\u001b[43mcreate\u001b[49m\u001b[43m(\u001b[49m\n\u001b[0;32m      4\u001b[0m \u001b[43m    \u001b[49m\u001b[43mmodel\u001b[49m\u001b[38;5;241;43m=\u001b[39;49m\u001b[38;5;124;43m\"\u001b[39;49m\u001b[38;5;124;43mopenai:gpt-3.5-turbo\u001b[39;49m\u001b[38;5;124;43m\"\u001b[39;49m\u001b[43m,\u001b[49m\n\u001b[0;32m      5\u001b[0m \u001b[43m    \u001b[49m\u001b[43mmessages\u001b[49m\u001b[38;5;241;43m=\u001b[39;49m\u001b[43m[\u001b[49m\u001b[43m{\u001b[49m\u001b[38;5;124;43m\"\u001b[39;49m\u001b[38;5;124;43mrole\u001b[39;49m\u001b[38;5;124;43m\"\u001b[39;49m\u001b[43m:\u001b[49m\u001b[43m \u001b[49m\u001b[38;5;124;43m\"\u001b[39;49m\u001b[38;5;124;43muser\u001b[39;49m\u001b[38;5;124;43m\"\u001b[39;49m\u001b[43m,\u001b[49m\u001b[43m \u001b[49m\u001b[38;5;124;43m\"\u001b[39;49m\u001b[38;5;124;43mcontent\u001b[39;49m\u001b[38;5;124;43m\"\u001b[39;49m\u001b[43m:\u001b[49m\u001b[43m \u001b[49m\u001b[43m(\u001b[49m\n\u001b[0;32m      6\u001b[0m \u001b[43m        \u001b[49m\u001b[43mprompt\u001b[49m\n\u001b[0;32m      7\u001b[0m \u001b[43m    \u001b[49m\u001b[43m)\u001b[49m\u001b[43m}\u001b[49m\u001b[43m]\u001b[49m\u001b[43m,\u001b[49m\n\u001b[0;32m      8\u001b[0m \u001b[43m    \u001b[49m\u001b[43mtools\u001b[49m\u001b[38;5;241;43m=\u001b[39;49m\u001b[43m[\u001b[49m\n\u001b[0;32m      9\u001b[0m \u001b[43m        \u001b[49m\u001b[43mget_current_time\u001b[49m\u001b[43m,\u001b[49m\n\u001b[0;32m     10\u001b[0m \u001b[43m        \u001b[49m\u001b[43mget_weather_from_ip\u001b[49m\u001b[43m,\u001b[49m\n\u001b[0;32m     11\u001b[0m \u001b[43m        \u001b[49m\u001b[43mwrite_txt_file\u001b[49m\u001b[43m,\u001b[49m\n\u001b[0;32m     12\u001b[0m \u001b[43m        \u001b[49m\u001b[43mgenerate_qr_code\u001b[49m\n\u001b[0;32m     13\u001b[0m \u001b[43m    \u001b[49m\u001b[43m]\u001b[49m\u001b[43m,\u001b[49m\n\u001b[0;32m     14\u001b[0m \u001b[43m    \u001b[49m\u001b[43mmax_turns\u001b[49m\u001b[38;5;241;43m=\u001b[39;49m\u001b[38;5;241;43m5\u001b[39;49m\n\u001b[0;32m     15\u001b[0m \u001b[43m)\u001b[49m\n\u001b[0;32m     17\u001b[0m display_functions\u001b[38;5;241m.\u001b[39mpretty_print_chat_completion(response)\n",
      "File \u001b[1;32m~\\Desktop\\AI Agent - Deep Learning\\Mod3_Lab3_Functions to Tools\\venv\\lib\\site-packages\\aisuite\\client.py:235\u001b[0m, in \u001b[0;36mCompletions.create\u001b[1;34m(self, model, messages, **kwargs)\u001b[0m\n\u001b[0;32m    233\u001b[0m \u001b[38;5;66;03m# Check environment variable before allowing multi-turn tool execution\u001b[39;00m\n\u001b[0;32m    234\u001b[0m \u001b[38;5;28;01mif\u001b[39;00m max_turns \u001b[38;5;129;01mis\u001b[39;00m \u001b[38;5;129;01mnot\u001b[39;00m \u001b[38;5;28;01mNone\u001b[39;00m \u001b[38;5;129;01mand\u001b[39;00m tools \u001b[38;5;129;01mis\u001b[39;00m \u001b[38;5;129;01mnot\u001b[39;00m \u001b[38;5;28;01mNone\u001b[39;00m:\n\u001b[1;32m--> 235\u001b[0m     \u001b[38;5;28;01mreturn\u001b[39;00m \u001b[38;5;28;43mself\u001b[39;49m\u001b[38;5;241;43m.\u001b[39;49m\u001b[43m_tool_runner\u001b[49m\u001b[43m(\u001b[49m\n\u001b[0;32m    236\u001b[0m \u001b[43m        \u001b[49m\u001b[43mprovider\u001b[49m\u001b[43m,\u001b[49m\n\u001b[0;32m    237\u001b[0m \u001b[43m        \u001b[49m\u001b[43mmodel_name\u001b[49m\u001b[43m,\u001b[49m\n\u001b[0;32m    238\u001b[0m \u001b[43m        \u001b[49m\u001b[43mmessages\u001b[49m\u001b[38;5;241;43m.\u001b[39;49m\u001b[43mcopy\u001b[49m\u001b[43m(\u001b[49m\u001b[43m)\u001b[49m\u001b[43m,\u001b[49m\n\u001b[0;32m    239\u001b[0m \u001b[43m        \u001b[49m\u001b[43mtools\u001b[49m\u001b[43m,\u001b[49m\n\u001b[0;32m    240\u001b[0m \u001b[43m        \u001b[49m\u001b[43mmax_turns\u001b[49m\u001b[43m,\u001b[49m\n\u001b[0;32m    241\u001b[0m \u001b[43m    \u001b[49m\u001b[43m)\u001b[49m\n\u001b[0;32m    243\u001b[0m \u001b[38;5;66;03m# Default behavior without tool execution\u001b[39;00m\n\u001b[0;32m    244\u001b[0m \u001b[38;5;66;03m# Delegate the chat completion to the correct provider's implementation\u001b[39;00m\n\u001b[0;32m    245\u001b[0m response \u001b[38;5;241m=\u001b[39m provider\u001b[38;5;241m.\u001b[39mchat_completions_create(model_name, messages, \u001b[38;5;241m*\u001b[39m\u001b[38;5;241m*\u001b[39mkwargs)\n",
      "File \u001b[1;32m~\\Desktop\\AI Agent - Deep Learning\\Mod3_Lab3_Functions to Tools\\venv\\lib\\site-packages\\aisuite\\client.py:179\u001b[0m, in \u001b[0;36mCompletions._tool_runner\u001b[1;34m(self, provider, model_name, messages, tools, max_turns, **kwargs)\u001b[0m\n\u001b[0;32m    176\u001b[0m     \u001b[38;5;28;01mreturn\u001b[39;00m response\n\u001b[0;32m    178\u001b[0m \u001b[38;5;66;03m# Execute tools and get results\u001b[39;00m\n\u001b[1;32m--> 179\u001b[0m results, tool_messages \u001b[38;5;241m=\u001b[39m \u001b[43mtools_instance\u001b[49m\u001b[38;5;241;43m.\u001b[39;49m\u001b[43mexecute_tool\u001b[49m\u001b[43m(\u001b[49m\u001b[43mtool_calls\u001b[49m\u001b[43m)\u001b[49m\n\u001b[0;32m    181\u001b[0m \u001b[38;5;66;03m# Add tool messages to intermediate messages\u001b[39;00m\n\u001b[0;32m    182\u001b[0m intermediate_messages\u001b[38;5;241m.\u001b[39mextend(tool_messages)\n",
      "File \u001b[1;32m~\\Desktop\\AI Agent - Deep Learning\\Mod3_Lab3_Functions to Tools\\venv\\lib\\site-packages\\aisuite\\utils\\tools.py:272\u001b[0m, in \u001b[0;36mTools.execute_tool\u001b[1;34m(self, tool_calls)\u001b[0m\n\u001b[0;32m    270\u001b[0m \u001b[38;5;28;01mtry\u001b[39;00m:\n\u001b[0;32m    271\u001b[0m     validated_args \u001b[38;5;241m=\u001b[39m param_model(\u001b[38;5;241m*\u001b[39m\u001b[38;5;241m*\u001b[39marguments)\n\u001b[1;32m--> 272\u001b[0m     result \u001b[38;5;241m=\u001b[39m tool_func(\u001b[38;5;241m*\u001b[39m\u001b[38;5;241m*\u001b[39mvalidated_args\u001b[38;5;241m.\u001b[39mmodel_dump())\n\u001b[0;32m    273\u001b[0m     results\u001b[38;5;241m.\u001b[39mappend(result)\n\u001b[0;32m    274\u001b[0m     messages\u001b[38;5;241m.\u001b[39mappend(\n\u001b[0;32m    275\u001b[0m         {\n\u001b[0;32m    276\u001b[0m             \u001b[38;5;124m\"\u001b[39m\u001b[38;5;124mrole\u001b[39m\u001b[38;5;124m\"\u001b[39m: \u001b[38;5;124m\"\u001b[39m\u001b[38;5;124mtool\u001b[39m\u001b[38;5;124m\"\u001b[39m,\n\u001b[1;32m   (...)\u001b[0m\n\u001b[0;32m    280\u001b[0m         }\n\u001b[0;32m    281\u001b[0m     )\n",
      "Cell \u001b[1;32mIn[8], line 61\u001b[0m, in \u001b[0;36mgenerate_qr_code\u001b[1;34m(data, filename, image_path)\u001b[0m\n\u001b[0;32m     58\u001b[0m qr \u001b[38;5;241m=\u001b[39m qrcode\u001b[38;5;241m.\u001b[39mQRCode(error_correction\u001b[38;5;241m=\u001b[39mqrcode\u001b[38;5;241m.\u001b[39mconstants\u001b[38;5;241m.\u001b[39mERROR_CORRECT_H)\n\u001b[0;32m     59\u001b[0m qr\u001b[38;5;241m.\u001b[39madd_data(data)\n\u001b[1;32m---> 61\u001b[0m img \u001b[38;5;241m=\u001b[39m \u001b[43mqr\u001b[49m\u001b[38;5;241;43m.\u001b[39;49m\u001b[43mmake_image\u001b[49m\u001b[43m(\u001b[49m\u001b[43mimage_factory\u001b[49m\u001b[38;5;241;43m=\u001b[39;49m\u001b[43mStyledPilImage\u001b[49m\u001b[43m,\u001b[49m\u001b[43m \u001b[49m\u001b[43membedded_image_path\u001b[49m\u001b[38;5;241;43m=\u001b[39;49m\u001b[43mimage_path\u001b[49m\u001b[43m)\u001b[49m\n\u001b[0;32m     62\u001b[0m output_file \u001b[38;5;241m=\u001b[39m \u001b[38;5;124mf\u001b[39m\u001b[38;5;124m\"\u001b[39m\u001b[38;5;132;01m{\u001b[39;00mfilename\u001b[38;5;132;01m}\u001b[39;00m\u001b[38;5;124m.png\u001b[39m\u001b[38;5;124m\"\u001b[39m\n\u001b[0;32m     63\u001b[0m img\u001b[38;5;241m.\u001b[39msave(output_file)\n",
      "File \u001b[1;32m~\\Desktop\\AI Agent - Deep Learning\\Mod3_Lab3_Functions to Tools\\venv\\lib\\site-packages\\qrcode\\main.py:369\u001b[0m, in \u001b[0;36mQRCode.make_image\u001b[1;34m(self, image_factory, **kwargs)\u001b[0m\n\u001b[0;32m    366\u001b[0m         \u001b[38;5;66;03m# Use PIL by default if available, otherwise use PyPNG.\u001b[39;00m\n\u001b[0;32m    367\u001b[0m         image_factory \u001b[38;5;241m=\u001b[39m PilImage \u001b[38;5;28;01mif\u001b[39;00m Image \u001b[38;5;28;01melse\u001b[39;00m PyPNGImage\n\u001b[1;32m--> 369\u001b[0m im \u001b[38;5;241m=\u001b[39m image_factory(\n\u001b[0;32m    370\u001b[0m     \u001b[38;5;28mself\u001b[39m\u001b[38;5;241m.\u001b[39mborder,\n\u001b[0;32m    371\u001b[0m     \u001b[38;5;28mself\u001b[39m\u001b[38;5;241m.\u001b[39mmodules_count,\n\u001b[0;32m    372\u001b[0m     \u001b[38;5;28mself\u001b[39m\u001b[38;5;241m.\u001b[39mbox_size,\n\u001b[0;32m    373\u001b[0m     qrcode_modules\u001b[38;5;241m=\u001b[39m\u001b[38;5;28mself\u001b[39m\u001b[38;5;241m.\u001b[39mmodules,\n\u001b[0;32m    374\u001b[0m     \u001b[38;5;241m*\u001b[39m\u001b[38;5;241m*\u001b[39mkwargs,\n\u001b[0;32m    375\u001b[0m )\n\u001b[0;32m    377\u001b[0m \u001b[38;5;28;01mif\u001b[39;00m im\u001b[38;5;241m.\u001b[39mneeds_drawrect:\n\u001b[0;32m    378\u001b[0m     \u001b[38;5;28;01mfor\u001b[39;00m r \u001b[38;5;129;01min\u001b[39;00m \u001b[38;5;28mrange\u001b[39m(\u001b[38;5;28mself\u001b[39m\u001b[38;5;241m.\u001b[39mmodules_count):\n",
      "File \u001b[1;32m~\\Desktop\\AI Agent - Deep Learning\\Mod3_Lab3_Functions to Tools\\venv\\lib\\site-packages\\qrcode\\image\\styledpil.py:59\u001b[0m, in \u001b[0;36mStyledPilImage.__init__\u001b[1;34m(self, *args, **kwargs)\u001b[0m\n\u001b[0;32m     54\u001b[0m \u001b[38;5;28mself\u001b[39m\u001b[38;5;241m.\u001b[39membedded_image_resample \u001b[38;5;241m=\u001b[39m kwargs\u001b[38;5;241m.\u001b[39mget(\n\u001b[0;32m     55\u001b[0m     \u001b[38;5;124m\"\u001b[39m\u001b[38;5;124membedded_image_resample\u001b[39m\u001b[38;5;124m\"\u001b[39m,\n\u001b[0;32m     56\u001b[0m     kwargs\u001b[38;5;241m.\u001b[39mget(\u001b[38;5;124m\"\u001b[39m\u001b[38;5;124membeded_image_resample\u001b[39m\u001b[38;5;124m\"\u001b[39m, Image\u001b[38;5;241m.\u001b[39mResampling\u001b[38;5;241m.\u001b[39mLANCZOS),\n\u001b[0;32m     57\u001b[0m )\n\u001b[0;32m     58\u001b[0m \u001b[38;5;28;01mif\u001b[39;00m \u001b[38;5;129;01mnot\u001b[39;00m \u001b[38;5;28mself\u001b[39m\u001b[38;5;241m.\u001b[39membedded_image \u001b[38;5;129;01mand\u001b[39;00m embedded_image_path:\n\u001b[1;32m---> 59\u001b[0m     \u001b[38;5;28mself\u001b[39m\u001b[38;5;241m.\u001b[39membedded_image \u001b[38;5;241m=\u001b[39m \u001b[43mImage\u001b[49m\u001b[38;5;241;43m.\u001b[39;49m\u001b[43mopen\u001b[49m\u001b[43m(\u001b[49m\u001b[43membedded_image_path\u001b[49m\u001b[43m)\u001b[49m\n\u001b[0;32m     61\u001b[0m \u001b[38;5;66;03m# the paint_color is the color the module drawer will use to draw upon\u001b[39;00m\n\u001b[0;32m     62\u001b[0m \u001b[38;5;66;03m# a canvas During the color mask process, pixels that are paint_color\u001b[39;00m\n\u001b[0;32m     63\u001b[0m \u001b[38;5;66;03m# are replaced by a newly-calculated color\u001b[39;00m\n\u001b[0;32m     64\u001b[0m \u001b[38;5;28mself\u001b[39m\u001b[38;5;241m.\u001b[39mpaint_color \u001b[38;5;241m=\u001b[39m \u001b[38;5;28mtuple\u001b[39m(\u001b[38;5;241m0\u001b[39m \u001b[38;5;28;01mfor\u001b[39;00m i \u001b[38;5;129;01min\u001b[39;00m \u001b[38;5;28mself\u001b[39m\u001b[38;5;241m.\u001b[39mcolor_mask\u001b[38;5;241m.\u001b[39mback_color)\n",
      "File \u001b[1;32m~\\Desktop\\AI Agent - Deep Learning\\Mod3_Lab3_Functions to Tools\\venv\\lib\\site-packages\\PIL\\Image.py:3493\u001b[0m, in \u001b[0;36mopen\u001b[1;34m(fp, mode, formats)\u001b[0m\n\u001b[0;32m   3491\u001b[0m \u001b[38;5;28;01mif\u001b[39;00m is_path(fp):\n\u001b[0;32m   3492\u001b[0m     filename \u001b[38;5;241m=\u001b[39m os\u001b[38;5;241m.\u001b[39mfspath(fp)\n\u001b[1;32m-> 3493\u001b[0m     fp \u001b[38;5;241m=\u001b[39m \u001b[43mbuiltins\u001b[49m\u001b[38;5;241;43m.\u001b[39;49m\u001b[43mopen\u001b[49m\u001b[43m(\u001b[49m\u001b[43mfilename\u001b[49m\u001b[43m,\u001b[49m\u001b[43m \u001b[49m\u001b[38;5;124;43m\"\u001b[39;49m\u001b[38;5;124;43mrb\u001b[39;49m\u001b[38;5;124;43m\"\u001b[39;49m\u001b[43m)\u001b[49m\n\u001b[0;32m   3494\u001b[0m     exclusive_fp \u001b[38;5;241m=\u001b[39m \u001b[38;5;28;01mTrue\u001b[39;00m\n\u001b[0;32m   3495\u001b[0m \u001b[38;5;28;01melse\u001b[39;00m:\n",
      "\u001b[1;31mFileNotFoundError\u001b[0m: [Errno 2] No such file or directory: 'dl_logo.jpg'"
     ]
    }
   ],
   "source": [
    "prompt = \"Can you make a QR code for me using my company's logo that goes to www.deeplearning.ai? The logo is located at `dl_logo.jpg`. You can call it dl_qr_code.\"\n",
    "\n",
    "response = client.chat.completions.create(\n",
    "    model=\"openai:gpt-3.5-turbo\",\n",
    "    messages=[{\"role\": \"user\", \"content\": (\n",
    "        prompt\n",
    "    )}],\n",
    "    tools=[\n",
    "        get_current_time,\n",
    "        get_weather_from_ip,\n",
    "        write_txt_file,\n",
    "        generate_qr_code\n",
    "    ],\n",
    "    max_turns=5\n",
    ")\n",
    "\n",
    "display_functions.pretty_print_chat_completion(response)"
   ]
  },
  {
   "cell_type": "code",
   "execution_count": null,
   "id": "cffc2e3b-81b0-4255-b77a-618739bfc604",
   "metadata": {},
   "outputs": [],
   "source": []
  }
 ],
 "metadata": {
  "kernelspec": {
   "display_name": "Python 3 (ipykernel)",
   "language": "python",
   "name": "python3"
  },
  "language_info": {
   "codemirror_mode": {
    "name": "ipython",
    "version": 3
   },
   "file_extension": ".py",
   "mimetype": "text/x-python",
   "name": "python",
   "nbconvert_exporter": "python",
   "pygments_lexer": "ipython3",
   "version": "3.10.11"
  }
 },
 "nbformat": 4,
 "nbformat_minor": 5
}
